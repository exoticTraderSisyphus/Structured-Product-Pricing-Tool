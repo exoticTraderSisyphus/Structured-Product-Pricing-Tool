{
 "cells": [
  {
   "cell_type": "code",
   "execution_count": 1,
   "metadata": {},
   "outputs": [],
   "source": [
    "from BaseClassAndMethods.BlackScholesBaseFormula import *"
   ]
  },
  {
   "cell_type": "code",
   "execution_count": 2,
   "metadata": {},
   "outputs": [
    {
     "name": "stdout",
     "output_type": "stream",
     "text": [
      "call_test.d1 = 0.31819805153394637\n",
      "call_test.d2 = -0.03535533905932742\n",
      "call_test.price = 16.263198108465957\n"
     ]
    }
   ],
   "source": [
    "S = 100\n",
    "X = 100\n",
    "r = 0.1\n",
    "T = 0.5\n",
    "sigma = 0.5\n",
    "call_put = 'c'\n",
    "args = [\n",
    "    S,\n",
    "    X,\n",
    "    r,\n",
    "    T,\n",
    "    sigma,\n",
    "    call_put,\n",
    "]\n",
    "call_test = BlackScholeSNoDividend(*args)\n",
    "print(f\"{call_test.d1 = }\")\n",
    "print(f\"{call_test.d2 = }\")\n",
    "print(f\"{call_test.price = }\")"
   ]
  },
  {
   "cell_type": "code",
   "execution_count": 3,
   "metadata": {},
   "outputs": [
    {
     "name": "stdout",
     "output_type": "stream",
     "text": [
      "call_test.d1 = 0.6101857363236398\n",
      "call_test.d2 = 0.46876438008633026\n",
      "call_test.price = 2.4647876467558305\n"
     ]
    }
   ],
   "source": [
    "S = 100\n",
    "X = 95\n",
    "r = 0.1\n",
    "T = 0.5\n",
    "q = 0.05\n",
    "sigma = 0.2\n",
    "call_put = 'p'\n",
    "args = [\n",
    "    S,\n",
    "    X,\n",
    "    r,\n",
    "    q,\n",
    "    T,\n",
    "    sigma,\n",
    "    call_put,\n",
    "]\n",
    "call_test = BlackScholesMertonWithDividend(*args)\n",
    "print(f\"{call_test.d1 = }\")\n",
    "print(f\"{call_test.d2 = }\")\n",
    "print(f\"{call_test.price = }\")"
   ]
  },
  {
   "cell_type": "code",
   "execution_count": 4,
   "metadata": {},
   "outputs": [
    {
     "name": "stdout",
     "output_type": "stream",
     "text": [
      "call_test.d1 = 0.12124355652982143\n",
      "call_test.d2 = -0.1212435565298214\n",
      "call_test.price = 1.701050725236268\n"
     ]
    }
   ],
   "source": [
    "S = 19\n",
    "X = 19\n",
    "r = 0.1\n",
    "T = 0.75\n",
    "sigma = 0.28\n",
    "call_put = 'c'\n",
    "args = [\n",
    "    S,\n",
    "    X,\n",
    "    r,\n",
    "    T,\n",
    "    sigma,\n",
    "    call_put,\n",
    "]\n",
    "call_test = Black76ModelOptionsOnFutures(*args)\n",
    "print(f\"{call_test.d1 = }\")\n",
    "print(f\"{call_test.d2 = }\")\n",
    "print(f\"{call_test.price = }\")"
   ]
  },
  {
   "cell_type": "code",
   "execution_count": 5,
   "metadata": {},
   "outputs": [
    {
     "data": {
      "text/plain": [
       "1.0"
      ]
     },
     "execution_count": 5,
     "metadata": {},
     "output_type": "execute_result"
    }
   ],
   "source": [
    "exp(0)"
   ]
  },
  {
   "cell_type": "code",
   "execution_count": 10,
   "metadata": {},
   "outputs": [
    {
     "data": {
      "text/plain": [
       "1.1273460446414625"
      ]
     },
     "execution_count": 10,
     "metadata": {},
     "output_type": "execute_result"
    }
   ],
   "source": [
    "kwargs = {\n",
    "    \"S\": 90,\n",
    "    \"X\": 40,\n",
    "    \"b\": 0.09,\n",
    "    \"r\": 0.03,\n",
    "    \"T\": 2,\n",
    "    \"sigma\": 0.20,\n",
    "    \"call_put\": 'c',\n",
    "}\n",
    "\n",
    "put_test = GeneralBlackScholesMertonFormula(**kwargs)\n",
    "put_test.delta"
   ]
  },
  {
   "cell_type": "code",
   "execution_count": 9,
   "metadata": {},
   "outputs": [
    {
     "data": {
      "text/plain": [
       "-0.00015080693791319163"
      ]
     },
     "execution_count": 9,
     "metadata": {},
     "output_type": "execute_result"
    }
   ],
   "source": [
    "kwargs = {\n",
    "    \"S\": 90,\n",
    "    \"X\": 40,\n",
    "    \"b\": 0.09,\n",
    "    \"r\": 0.03,\n",
    "    \"T\": 2,\n",
    "    \"sigma\": 0.20,\n",
    "    \"call_put\": 'p',\n",
    "}\n",
    "\n",
    "put_test = GeneralBlackScholesMertonFormula(**kwargs)\n",
    "put_test.delta"
   ]
  },
  {
   "cell_type": "code",
   "execution_count": null,
   "metadata": {},
   "outputs": [],
   "source": [
    "###make plot of greeks\n"
   ]
  }
 ],
 "metadata": {
  "kernelspec": {
   "display_name": "base",
   "language": "python",
   "name": "python3"
  },
  "language_info": {
   "codemirror_mode": {
    "name": "ipython",
    "version": 3
   },
   "file_extension": ".py",
   "mimetype": "text/x-python",
   "name": "python",
   "nbconvert_exporter": "python",
   "pygments_lexer": "ipython3",
   "version": "3.10.9"
  },
  "orig_nbformat": 4
 },
 "nbformat": 4,
 "nbformat_minor": 2
}
